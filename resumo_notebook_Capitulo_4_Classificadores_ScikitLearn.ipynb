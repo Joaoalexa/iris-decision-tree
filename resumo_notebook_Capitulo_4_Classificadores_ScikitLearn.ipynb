{
 "cells": [
  {
   "cell_type": "markdown",
   "id": "c455e922",
   "metadata": {},
   "source": [
    "# 🌟 Classificadores de Machine Learning com Scikit-Learn\n",
    "Este notebook demonstra o uso de diversos classificadores, conforme apresentado no Capítulo 4 do livro *Machine Learning with PyTorch and Scikit-Learn*."
   ]
  },
  {
   "cell_type": "code",
   "execution_count": null,
   "id": "83f97750",
   "metadata": {},
   "outputs": [],
   "source": [
    "# 📥 Importando bibliotecas\n",
    "from sklearn.datasets import load_iris\n",
    "from sklearn.model_selection import train_test_split\n",
    "from sklearn.tree import DecisionTreeClassifier, plot_tree\n",
    "from sklearn.ensemble import RandomForestClassifier, AdaBoostClassifier, BaggingClassifier, VotingClassifier\n",
    "from sklearn.linear_model import LogisticRegression\n",
    "from sklearn.svm import SVC\n",
    "from sklearn.metrics import accuracy_score\n",
    "import matplotlib.pyplot as plt\n",
    "import numpy as np\n"
   ]
  },
  {
   "cell_type": "code",
   "execution_count": null,
   "id": "a55078f6",
   "metadata": {},
   "outputs": [],
   "source": [
    "# 🚀 Carregando o dataset Iris\n",
    "iris = load_iris()\n",
    "X, y = iris.data, iris.target\n",
    "\n",
    "# Dividindo em treino e teste\n",
    "X_train, X_test, y_train, y_test = train_test_split(X, y, test_size=0.3, random_state=42)\n"
   ]
  },
  {
   "cell_type": "code",
   "execution_count": null,
   "id": "22818737",
   "metadata": {},
   "outputs": [],
   "source": [
    "# 🌳 Treinando uma Árvore de Decisão\n",
    "tree = DecisionTreeClassifier(max_depth=3, random_state=42)\n",
    "tree.fit(X_train, y_train)\n",
    "\n",
    "# Visualizando a árvore\n",
    "plt.figure(figsize=(12, 8))\n",
    "plot_tree(tree, feature_names=iris.feature_names, class_names=iris.target_names, filled=True)\n",
    "plt.title(\"Árvore de Decisão - Dataset Iris\")\n",
    "plt.show()\n"
   ]
  },
  {
   "cell_type": "code",
   "execution_count": null,
   "id": "58a26687",
   "metadata": {},
   "outputs": [],
   "source": [
    "# 🌲 Random Forest Classifier\n",
    "rf = RandomForestClassifier(n_estimators=100, random_state=42)\n",
    "rf.fit(X_train, y_train)\n",
    "y_pred_rf = rf.predict(X_test)\n",
    "print(\"Acurácia Random Forest:\", accuracy_score(y_test, y_pred_rf))\n"
   ]
  },
  {
   "cell_type": "code",
   "execution_count": null,
   "id": "6b5e7deb",
   "metadata": {},
   "outputs": [],
   "source": [
    "# 🧠 Bagging com Decision Tree\n",
    "bagging = BaggingClassifier(base_estimator=DecisionTreeClassifier(), n_estimators=50, random_state=42)\n",
    "bagging.fit(X_train, y_train)\n",
    "y_pred_bag = bagging.predict(X_test)\n",
    "print(\"Acurácia Bagging:\", accuracy_score(y_test, y_pred_bag))\n"
   ]
  },
  {
   "cell_type": "code",
   "execution_count": null,
   "id": "236e183e",
   "metadata": {},
   "outputs": [],
   "source": [
    "# ⚡ AdaBoost com Decision Tree\n",
    "adaboost = AdaBoostClassifier(base_estimator=DecisionTreeClassifier(max_depth=1), n_estimators=50, learning_rate=1.0, random_state=42)\n",
    "adaboost.fit(X_train, y_train)\n",
    "y_pred_ada = adaboost.predict(X_test)\n",
    "print(\"Acurácia AdaBoost:\", accuracy_score(y_test, y_pred_ada))\n"
   ]
  },
  {
   "cell_type": "code",
   "execution_count": null,
   "id": "00af0384",
   "metadata": {},
   "outputs": [],
   "source": [
    "# 🤖 Voting Classifier (hard voting)\n",
    "clf1 = LogisticRegression(max_iter=1000, random_state=42)\n",
    "clf2 = RandomForestClassifier(n_estimators=100, random_state=42)\n",
    "clf3 = SVC(probability=True, random_state=42)\n",
    "\n",
    "voting = VotingClassifier(estimators=[\n",
    "    ('lr', clf1), ('rf', clf2), ('svc', clf3)\n",
    "], voting='hard')\n",
    "\n",
    "voting.fit(X_train, y_train)\n",
    "y_pred_vote = voting.predict(X_test)\n",
    "print(\"Acurácia VotingClassifier:\", accuracy_score(y_test, y_pred_vote))\n"
   ]
  }
 ],
 "metadata": {},
 "nbformat": 4,
 "nbformat_minor": 5
}
